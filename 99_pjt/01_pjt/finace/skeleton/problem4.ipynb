{
 "cells": [
  {
   "cell_type": "markdown",
   "id": "49810d72",
   "metadata": {},
   "source": [
    "# 문제4. 상품과 옵션 정보들을 담고 있는 새로운 객체를 만들어 반환하시오."
   ]
  },
  {
   "cell_type": "markdown",
   "id": "016ba889",
   "metadata": {},
   "source": [
    "[힌트] 상품 리스트와 옵션 리스트를 금융상품 코드를 기준으로 매칭할 수 있습니다.\n",
    "[힌트] 아래와 같은 순서로 데이터를 출력하며 진행합니다.\n",
    "1. 응답을 json 형식으로 변환합니다.\n",
    "2. key 값이 \"result\" 인 데이터를 변수에 저장합니다.\n",
    "3. 2번의 결과 중 key 값이 \"baseList\" 인 데이터를 변수에 저장합니다.\n",
    "4. 2번의 결과 중 key 값이 \"optionList\" 인 데이터를 변수에 저장합니다.\n",
    "5. 3번에서 저장된 변수를 순회하며, 4번에서 저장된 값들에서 금융 상품 코드가 같은 모든 데이터들을 가져와 새로운 딕셔너리로 저장합니다.  \n",
    "   저장 시, 명세서에 맞게 출력되도록 저장합니다.  \n",
    "6. 5번에서 만든 딕셔너리를 결과 리스트에 추가합니다."
   ]
  },
  {
   "cell_type": "code",
   "execution_count": 2,
   "id": "ae8573da",
   "metadata": {},
   "outputs": [],
   "source": [
    "import pprint\n",
    "import requests\n",
    "\n",
    "def get_deposit_products():\n",
    "    api_key = \"\"\n",
    "\n",
    "    url = 'http://finlife.fss.or.kr/finlifeapi/depositProductsSearch.json'\n",
    "    params = {\n",
    "        'auth': api_key,\n",
    "        # 금융회사 코드 020000(은행), 030200(여신전문), 030300(저축은행), 050000(보험), 060000(금융투자)\n",
    "        'topFinGrpNo': '020000',\n",
    "        'pageNo': 1\n",
    "    }\n",
    "    response = requests.get(url, params=params).json()['result']\n",
    "    base_list = response['baseList']\n",
    "    option_list = response['optionList']\n",
    "\n",
    "    result = []\n",
    "    for product in base_list[:2]:\n",
    "        new_product = {}\n",
    "        options = []\n",
    "        for option in option_list:\n",
    "            new_option = {}\n",
    "            if option['fin_prdt_cd'] == product['fin_prdt_cd']:\n",
    "                new_option['저축금리유형'] = option['intr_rate_type']\n",
    "                new_option['저축금리유형명'] = option['intr_rate_type_nm']\n",
    "                new_option['저축 기간'] = option['save_trm']\n",
    "                new_option['저축 금리'] = option['intr_rate']\n",
    "                new_option['최고 우대금리'] = option['intr_rate2']\n",
    "                options.append(new_option)\n",
    "        new_product['금융회사명'] = product['kor_co_nm']\n",
    "        new_product['금융상품명'] = product['fin_prdt_nm']\n",
    "        new_product['금리정보'] = options\n",
    "        result.append(new_product)\n",
    "\n",
    "    return result[:3]\n"
   ]
  },
  {
   "cell_type": "code",
   "execution_count": 3,
   "id": "23be44ac",
   "metadata": {},
   "outputs": [
    {
     "name": "stdout",
     "output_type": "stream",
     "text": [
      "[{'금리정보': [{'저축 금리': 3.67,\n",
      "            '저축 기간': '6',\n",
      "            '저축금리유형': 'S',\n",
      "            '저축금리유형명': '단리',\n",
      "            '최고 우대금리': 3.67},\n",
      "           {'저축 금리': 3.73,\n",
      "            '저축 기간': '12',\n",
      "            '저축금리유형': 'S',\n",
      "            '저축금리유형명': '단리',\n",
      "            '최고 우대금리': 3.73},\n",
      "           {'저축 금리': 3.36,\n",
      "            '저축 기간': '24',\n",
      "            '저축금리유형': 'S',\n",
      "            '저축금리유형명': '단리',\n",
      "            '최고 우대금리': 3.36},\n",
      "           {'저축 금리': 3.33,\n",
      "            '저축 기간': '36',\n",
      "            '저축금리유형': 'S',\n",
      "            '저축금리유형명': '단리',\n",
      "            '최고 우대금리': 3.33}],\n",
      "  '금융상품명': 'WON플러스예금',\n",
      "  '금융회사명': '우리은행'},\n",
      " {'금리정보': [{'저축 금리': 3.7,\n",
      "            '저축 기간': '6',\n",
      "            '저축금리유형': 'S',\n",
      "            '저축금리유형명': '단리',\n",
      "            '최고 우대금리': 3.9},\n",
      "           {'저축 금리': 3.8,\n",
      "            '저축 기간': '12',\n",
      "            '저축금리유형': 'S',\n",
      "            '저축금리유형명': '단리',\n",
      "            '최고 우대금리': 4.1}],\n",
      "  '금융상품명': 'e-그린세이브예금',\n",
      "  '금융회사명': '한국스탠다드차타드은행'}]\n"
     ]
    }
   ],
   "source": [
    "# json 형태의 데이터 반환\n",
    "result = get_deposit_products()\n",
    "# prrint.prrint(): json 을 보기 좋은 형식으로 출력\n",
    "pprint.pprint(result)"
   ]
  },
  {
   "cell_type": "code",
   "execution_count": null,
   "id": "a3981efd",
   "metadata": {},
   "outputs": [],
   "source": []
  }
 ],
 "metadata": {
  "kernelspec": {
   "display_name": "Python 3 (ipykernel)",
   "language": "python",
   "name": "python3"
  },
  "language_info": {
   "codemirror_mode": {
    "name": "ipython",
    "version": 3
   },
   "file_extension": ".py",
   "mimetype": "text/x-python",
   "name": "python",
   "nbconvert_exporter": "python",
   "pygments_lexer": "ipython3",
   "version": "3.9.17"
  }
 },
 "nbformat": 4,
 "nbformat_minor": 5
}
