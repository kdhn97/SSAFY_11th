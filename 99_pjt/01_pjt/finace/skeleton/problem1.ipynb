{
 "cells": [
  {
   "cell_type": "markdown",
   "id": "2bc2120b",
   "metadata": {},
   "source": [
    "# 문제1. 전체 정기예금의 응답을 json 형태로 변환하여 key 값만 출력하시오."
   ]
  },
  {
   "cell_type": "markdown",
   "id": "0a73a27b",
   "metadata": {},
   "source": [
    "- 공식문서의 요청변수와 예제 요청결과(JSON) 부분을 참고합니다.\n",
    "[힌트] 아래와 같은 순서로 데이터를 출력하며 진행합니다.\n",
    "1. 응답을 json 형식으로 변환합니다.\n",
    "2. key 값이 \"result\" 인 데이터에 모든 정보가 담겨 있습니다.\n",
    "3. key 값이 \"result\" 인 데이터의 key 값만 출력합니다."
   ]
  },
  {
   "cell_type": "code",
   "execution_count": 3,
   "id": "edbe4c0b",
   "metadata": {},
   "outputs": [],
   "source": [
    "import pprint\n",
    "import requests"
   ]
  },
  {
   "cell_type": "code",
   "execution_count": 1,
   "id": "f0338434",
   "metadata": {},
   "outputs": [],
   "source": [
    "def get_deposit_products():\n",
    "    api_key = \"\"\n",
    "\n",
    "    url = 'http://finlife.fss.or.kr/finlifeapi/depositProductsSearch.json'\n",
    "    params = {\n",
    "        'auth': api_key,\n",
    "        # 금융회사 코드 020000(은행), 030200(여신전문), 030300(저축은행), 050000(보험), 060000(금융투자)\n",
    "        'topFinGrpNo': '020000',\n",
    "        'pageNo': 1\n",
    "    }\n",
    "    # 응답을 json 형태로 변환\n",
    "    response = requests.get(url, params=params).json()\n",
    "    return response\n"
   ]
  },
  {
   "cell_type": "code",
   "execution_count": 6,
   "id": "39fb4a09",
   "metadata": {},
   "outputs": [
    {
     "name": "stdout",
     "output_type": "stream",
     "text": [
      "dict_keys(['prdt_div', 'total_count', 'max_page_no', 'now_page_no', 'err_cd', 'err_msg', 'baseList', 'optionList'])\n"
     ]
    }
   ],
   "source": [
    "response = get_deposit_products()\n",
    "result = response['result'].keys()\n",
    "pprint.pprint(result)"
   ]
  },
  {
   "cell_type": "code",
   "execution_count": null,
   "id": "e19dcd08",
   "metadata": {},
   "outputs": [],
   "source": []
  }
 ],
 "metadata": {
  "kernelspec": {
   "display_name": "Python 3 (ipykernel)",
   "language": "python",
   "name": "python3"
  },
  "language_info": {
   "codemirror_mode": {
    "name": "ipython",
    "version": 3
   },
   "file_extension": ".py",
   "mimetype": "text/x-python",
   "name": "python",
   "nbconvert_exporter": "python",
   "pygments_lexer": "ipython3",
   "version": "3.9.17"
  }
 },
 "nbformat": 4,
 "nbformat_minor": 5
}
